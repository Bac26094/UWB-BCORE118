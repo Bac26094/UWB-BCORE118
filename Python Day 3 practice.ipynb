{
 "cells": [
  {
   "cell_type": "code",
   "execution_count": 1,
   "metadata": {},
   "outputs": [],
   "source": [
    "# WORK TOGETHER!!!   (But each should have your own code in front of you.)"
   ]
  },
  {
   "cell_type": "code",
   "execution_count": null,
   "metadata": {},
   "outputs": [],
   "source": [
    "# define a function called badAjd() that returns (not prints) a random \"bad\" adjective\n",
    "# do this:  from random import shuffle\n",
    "#           Then you can take a list and shuffle it like this: shuffle(myList)\n",
    "# test the function.\n",
    "\n",
    "def badAdj():\n",
    "    from random import shuffle\n",
    "    myList = [\"stupid\", \"dumb\", \"loser\", \"ugly\", \"smelly\", \"lazy\", \"angry\", \"kray\", \"asshole\"]\n",
    "    shuffle(myList)\n",
    "    return myList[0]\n",
    "\n",
    "badAdj()"
   ]
  },
  {
   "cell_type": "code",
   "execution_count": 3,
   "metadata": {},
   "outputs": [],
   "source": [
    "# define a function called goodAjd() that returns (not prints) a random \"good\" adjective\n",
    "# do this:  from random import shuffle\n",
    "#           Then you can take a list and shuffle it like this: shuffle(myList)\n",
    "# test the function.\n",
    "\n",
    "def goodAdj():\n",
    "    from random import shuffle\n",
    "    myList = [\"awesome\", \"cool\", \"nice\", \"outgoing\", \"smart\", \"kray\"]\n",
    "    shuffle(myList)\n",
    "    return myList[0]\n",
    "\n",
    "goodAdj()"
   ]
  },
  {
   "cell_type": "code",
   "execution_count": 4,
   "metadata": {},
   "outputs": [
    {
     "data": {
      "text/plain": [
       "('Hello, my name is Kevin Nguyen. I met a guy named Kray, who is',\n",
       " 'stupid',\n",
       " '. I met Andy, who is',\n",
       " 'loser',\n",
       " '.')"
      ]
     },
     "execution_count": 4,
     "metadata": {},
     "output_type": "execute_result"
    }
   ],
   "source": [
    "# define a function called myFirstYear() that returns (not prints) a paragraph describing your first year at UWB. \n",
    "# In this function, you must call badAdj() at least once and goodAdj() at least once\n",
    "# test the function.\n",
    "\n",
    "def myFirstYear():\n",
    "    return(\"Hello, my name is Kevin Nguyen. I met a guy named Kray, who is\", badAdj(), \". I met Andy, who is\", badAdj(), \".\")\n",
    "\n",
    "myFirstYear()"
   ]
  },
  {
   "cell_type": "code",
   "execution_count": 5,
   "metadata": {},
   "outputs": [
    {
     "name": "stdout",
     "output_type": "stream",
     "text": [
      "Kray... you are...\n",
      "you are angry\n",
      "you are stupid\n",
      "you are loser\n",
      "you are loser\n",
      "you are stupid\n"
     ]
    }
   ],
   "source": [
    "# define a function called insults(n).\n",
    "# It takes in a number (call it n), and then insults the user by printing \"you are ______\" n times,\n",
    "# but instead of the blank line, it has one of the bad adjectives from badAdj().\n",
    "# Use a for loop to loop n times.\n",
    "# test the function.\n",
    "\n",
    "def insults(n):\n",
    "    print(\"Kray... you are...\")\n",
    "    for x in range(0,n):\n",
    "        print(\"you are\", badAdj())\n",
    "        \n",
    "insults(5)"
   ]
  },
  {
   "cell_type": "code",
   "execution_count": 6,
   "metadata": {},
   "outputs": [],
   "source": [
    "# define a dictionary called phoneBook.  \n",
    "# The keys are your friends' names. \n",
    "# The values are your friends' phone numbers.\n",
    "# Put at least 5 entries in this phone book.\n",
    "\n",
    "phoneBook = {\"Kray\": 3609302469, \"Andy\": 2064198931, \"Y-Nhi\": 4258798456, \"Karen\": 4259483964, \"Kevin\": 4254040393, \"SnoopDog\": 420420420}"
   ]
  },
  {
   "cell_type": "code",
   "execution_count": 7,
   "metadata": {},
   "outputs": [
    {
     "name": "stdout",
     "output_type": "stream",
     "text": [
      "The phone number is: 3609302469\n"
     ]
    }
   ],
   "source": [
    "# define a function called getPhoneNumber(name).\n",
    "# It takes in a name of one of your friends and prints out their phone number.\n",
    "# It uses your dictionary, phoneBook, that you defined above.\n",
    "# Check to see if the name is really in your phoneBook. If not, print out an error message.\n",
    "#    (You might have to google how to check whether a key is in a dictionary in Python)\n",
    "\n",
    "def getPhoneNumber(name):\n",
    "    print(\"The phone number is:\", phoneBook[name])\n",
    "        \n",
    "getPhoneNumber(\"Kray\")"
   ]
  },
  {
   "cell_type": "code",
   "execution_count": null,
   "metadata": {},
   "outputs": [
    {
     "name": "stdout",
     "output_type": "stream",
     "text": [
      "('Hello, my name is Kevin Nguyen. I met a guy named Kray, who is', 'ugly', '. I met Andy, who is', 'stupid', '.')\n",
      "Give me a name?  Kevin\n",
      "Is that your least favorite person?  yes\n",
      "Kray... you are...\n",
      "you are kray\n",
      "you are smelly\n",
      "you are angry\n",
      "you are smelly\n",
      "you are lazy\n",
      "[Chat Box] Sorry, I don't know what you are saying.\n",
      "[Chat Bot] Do you have any questions about my first year? (type quit to exit)calculus\n",
      "[Chat Bot] It was pretty easy to be honest. The teacher is smart\n",
      "[Chat Bot] Do you have any questions about my first year? (type quit to exit)calculus\n",
      "[Chat Bot] It was pretty easy to be honest. The teacher is cool\n"
     ]
    }
   ],
   "source": [
    "# Let's start on your final project!\n",
    "# define a function called chat()\n",
    "# 1. It starts by printing the paragraph about your first year: print(myFirstYear())\n",
    "# 2. It asks for the user's name, and stores that in a variable called name.\n",
    "# 3. If the name is the name of your least favorite person, then call insults(5)\n",
    "#    (If you don't have a least favorite person, look for 'Voldemort')\n",
    "# 4. Then use a while loop and inside the while loop gets some input from the user\n",
    "#    By asking, \"Do you have any questions about my first year?\"\n",
    "#    It will keep looping until the user types 'quit'\n",
    "# 5. It looks for certain words related to your first year, and if the user types one of these words,\n",
    "#    it prints out some statements talking about that thing.\n",
    "#    Suppose you save the user's input in a variable called userInput. \n",
    "#    To look for a word (like 'calculus') in userInput, do this: \n",
    "#          if 'calculus' in userInput:\n",
    "#                 # print whatever you have to say about your calc class. Use badAdj() or goodAdj() as appropriate.\n",
    "\n",
    "print(myFirstYear())\n",
    "name = input(\"Give me a name?  \")\n",
    "prompt = input(\"Is that your least favorite person?  \")\n",
    "if prompt.lower() == \"yes\":\n",
    "    insults(5)\n",
    "if prompt.lower() == \"no\":\n",
    "    prompt2 = input(\"Do you even have a least favorite person?  \")\n",
    "    if prompt2.lower() == \"yes\":\n",
    "        print(\"Okay...\")\n",
    "    if prompt2.lower() == \"no\":\n",
    "        print(\"It's probably Voldemort...\")\n",
    "\n",
    "userInput = \"\"\n",
    "while(userInput != \"quit\"):\n",
    "    if \"calculus\" in userInput:\n",
    "        print(\"[Chat Bot] It was pretty easy to be honest. The teacher is\", goodAdj())\n",
    "        \n",
    "    elif \"friends\" in userInput:\n",
    "        print(\"[Chat Bot] I made lots of friend this year. One of my friends name is Andy and he is\", badAdj(), \"but\", goodAdj(), \".\")\n",
    "    else:\n",
    "        print(\"[Chat Box] Sorry, I don't know what you are saying.\")\n",
    "    userInput = input(\"[Chat Bot] Do you have any questions about my first year? (type quit to exit)\")"
   ]
  },
  {
   "cell_type": "code",
   "execution_count": null,
   "metadata": {},
   "outputs": [],
   "source": []
  },
  {
   "cell_type": "code",
   "execution_count": null,
   "metadata": {},
   "outputs": [],
   "source": []
  }
 ],
 "metadata": {
  "kernelspec": {
   "display_name": "Python 3",
   "language": "python",
   "name": "python3"
  },
  "language_info": {
   "codemirror_mode": {
    "name": "ipython",
    "version": 3
   },
   "file_extension": ".py",
   "mimetype": "text/x-python",
   "name": "python",
   "nbconvert_exporter": "python",
   "pygments_lexer": "ipython3",
   "version": "3.7.3"
  }
 },
 "nbformat": 4,
 "nbformat_minor": 2
}
