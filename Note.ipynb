{
 "cells": [
  {
   "cell_type": "code",
   "execution_count": null,
   "metadata": {},
   "outputs": [],
   "source": [
    "# Print\n",
    "print(\"Hello World\")\n",
    "\n",
    "#End without going to next line\n",
    "print(\"Good\", end=\" \")\n",
    "print(\"Bye\")"
   ]
  },
  {
   "cell_type": "code",
   "execution_count": null,
   "metadata": {},
   "outputs": [],
   "source": [
    "# Excape Key\n",
    "print(\"This is a quote \\\"\")"
   ]
  },
  {
   "cell_type": "code",
   "execution_count": null,
   "metadata": {},
   "outputs": [],
   "source": [
    "# Variable\n",
    "x = 4\n",
    "print(x)\n",
    "\n",
    "# Variable Manipulation\n",
    "x = x + 12\n",
    "print(x)"
   ]
  },
  {
   "cell_type": "code",
   "execution_count": null,
   "metadata": {},
   "outputs": [],
   "source": [
    "# Concatenate\n",
    "print(\"The number is\", x)"
   ]
  },
  {
   "cell_type": "code",
   "execution_count": null,
   "metadata": {},
   "outputs": [],
   "source": [
    "# Input from user\n",
    "input(\"Please give me your age: \")\n",
    "\n",
    "# Save input into a variable\n",
    "age = input(\"Please give me your age: \")\n",
    "print(\"So you are\", age, \"years old\")\n",
    "\n",
    "# Cast\n",
    "nextAge = int(age) + 1\n",
    "print(\"Next year you will be\", nextAge, \"years old\")\n",
    "\n",
    "age = int(age)\n",
    "\n",
    "if age > 30:\n",
    "    print(\"Sorry, I can't trust you.\")\n",
    "    print(\"You're just too old.\")\n",
    "elif age == 18:\n",
    "    print(\"You're 18!!!\")\n"
   ]
  },
  {
   "cell_type": "code",
   "execution_count": 3,
   "metadata": {},
   "outputs": [
    {
     "name": "stdout",
     "output_type": "stream",
     "text": [
      "What year were you born at?2000\n",
      "Have you registered to vote? no\n",
      "Here is the URL: www.dawjdoiwjdoawjd.gov\n"
     ]
    }
   ],
   "source": [
    "year = input(\"What year were you born at?\")\n",
    "year = int(year)\n",
    "yearOld = 2019 - year\n",
    "if yearOld > 18:\n",
    "    boolean = input(\"Have you registered to vote? \").lower()\n",
    "    if boolean == \"yes\":\n",
    "        print(\"Awesome\")\n",
    "    if boolean == \"no\":\n",
    "        print(\"Here is the URL: www.dawjdoiwjdoawjd.gov\")\n",
    "\n",
    "    "
   ]
  },
  {
   "cell_type": "code",
   "execution_count": null,
   "metadata": {},
   "outputs": [],
   "source": []
  },
  {
   "cell_type": "code",
   "execution_count": null,
   "metadata": {},
   "outputs": [],
   "source": []
  }
 ],
 "metadata": {
  "kernelspec": {
   "display_name": "Python 3",
   "language": "python",
   "name": "python3"
  },
  "language_info": {
   "codemirror_mode": {
    "name": "ipython",
    "version": 3
   },
   "file_extension": ".py",
   "mimetype": "text/x-python",
   "name": "python",
   "nbconvert_exporter": "python",
   "pygments_lexer": "ipython3",
   "version": "3.7.3"
  }
 },
 "nbformat": 4,
 "nbformat_minor": 2
}
