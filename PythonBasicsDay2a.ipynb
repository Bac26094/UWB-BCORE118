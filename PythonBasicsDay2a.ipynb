{
 "cells": [
  {
   "cell_type": "code",
   "execution_count": 1,
   "metadata": {},
   "outputs": [],
   "source": [
    "# Python Basics Day 2"
   ]
  },
  {
   "cell_type": "code",
   "execution_count": 27,
   "metadata": {},
   "outputs": [
    {
     "name": "stdout",
     "output_type": "stream",
     "text": [
      "myList:  [42, 67, 126, 666, 1138, 3, 8, 22]\n",
      "1st element is:  42\n",
      "Last element is:  22\n",
      "2nd to last element is:  8\n",
      "1st element is:  666\n",
      "Which index do you want to see?  3\n",
      "Your element is:  666\n",
      "[-6, 67, 126, 666, 1138, 3, 8, 22]\n",
      "[-6, 67, 126, 666, 1138, 3, 8, 22]\n",
      "[-6, 67, 126, 1138, 3, 8, 22]\n",
      "[-6, 126, 1138, 3, 8, 22]\n",
      "[-6, 3, 8, 22, 126, 1138]\n",
      "[1138, 126, 22, 8, 3, -6]\n",
      "[8, 1138, 126, 22, -6, 3]\n",
      "[126, 22, -6]\n",
      "[0, 1, 2, 3, 4, 5, 6, 7, 8, 9, 10, 11, 12, 13, 14, 15, 16, 17, 18, 19, 20, 21, 22, 23, 24, 25, 26, 27, 28, 29, 30, 31, 32, 33, 34, 35, 36, 37, 38, 39, 40, 41, 42, 43, 44, 45, 46, 47, 48, 49]\n",
      "[252, 44, -12]\n"
     ]
    }
   ],
   "source": [
    "# LISTS\n",
    "#        creating, appending, inserting, removing, popping, sorting, reversing, \n",
    "#        slicing\n",
    "#        range\n",
    "#        list comprehensions\n",
    "\n",
    "# Array\n",
    "myList = [42, 67, 126, 666, 1138, 3, 8, 22]\n",
    "print(\"myList: \", myList) #Prints the whole array\n",
    "\n",
    "# Prints the first element in the array\n",
    "print(\"1st element is: \", myList[0])   \n",
    "\n",
    "# Shortcut to print last element in array\n",
    "print(\"Last element is: \", myList[-1])\n",
    "\n",
    "# Shortcut to print 2nd to last element in array\n",
    "print(\"2nd to last element is: \", myList[-2])\n",
    "\n",
    "# Print first element in a different way\n",
    "print(\"1st element is: \", myList[-5])\n",
    "\n",
    "# Prompt\n",
    "index = int(input(\"Which index do you want to see?  \"))\n",
    "print(\"Your element is: \", myList[index])\n",
    "\n",
    "# Alias WARNING!!!!!\n",
    "copyList = myList\n",
    "copyList[0] = -6\n",
    "print(copyList)\n",
    "print(myList) # Notice that both arrays are being manipulated... because of alias\n",
    "\n",
    "myList.pop(3) # Remove at index number\n",
    "print(myList)\n",
    "\n",
    "myList.remove(67) # Searches through the array to take out certain value\n",
    "print(myList)\n",
    "\n",
    "myList.sort() # Sorts the array (it can sort numbers and strings)\n",
    "print(myList)\n",
    "\n",
    "myList.reverse() # Reverse the list\n",
    "print(myList) \n",
    "\n",
    "from random import shuffle #Import shuffle\n",
    "shuffle(myList) # Shuffles the myList\n",
    "print(myList) \n",
    "\n",
    "myList = myList[2:5] # Slice-And-Dice (take from range)\n",
    "print(myList)\n",
    "\n",
    "forLoop = list(range(0, 50, 1)) # For-Loop, put it inside the list array, and print it out\n",
    "print(forLoop)\n",
    "\n",
    "double = [x*2 for x in myList] # Takes the myList list and put the modified list into double and double each index by 2\n",
    "print(double)"
   ]
  },
  {
   "cell_type": "code",
   "execution_count": 19,
   "metadata": {},
   "outputs": [],
   "source": [
    "# Let's Write Some Functions!"
   ]
  },
  {
   "cell_type": "code",
   "execution_count": 30,
   "metadata": {},
   "outputs": [
    {
     "name": "stdout",
     "output_type": "stream",
     "text": [
      "Kevin\n",
      "Hi, my name is Kevin\n",
      "I was born in 2000 and I have 2 younger siblings.\n"
     ]
    }
   ],
   "source": [
    "# lifestory: \n",
    "# ----------\n",
    "# a function that prints out your life story (in a sentence or two)\n",
    "# (It takes no parameters and has no return value)\n",
    "name = input()\n",
    "\n",
    "lifestory(name)\n",
    "\n",
    "def lifestory(name): # Just like method in java\n",
    "    print(\"Hi, my name is\", name)\n",
    "    print(\"I was born in 2000 and I have 2 younger siblings.\")\n",
    "    "
   ]
  },
  {
   "cell_type": "code",
   "execution_count": 2,
   "metadata": {},
   "outputs": [
    {
     "name": "stdout",
     "output_type": "stream",
     "text": [
      "Kevin\n",
      "You are smart\n"
     ]
    }
   ],
   "source": [
    "# compliment: \n",
    "# -----------\n",
    "# a function that takes in a name and says nice things about that person. \n",
    "# If the name is YOUR name, then say extra nice things.\n",
    "# (takes in one parameter, but has no return value)\n",
    "\n",
    "name = input()\n",
    "\n",
    "def compliment(name):\n",
    "    if name == \"Kevin\":\n",
    "        print(\"You are smart\")\n",
    "    elif name == \"Kray\":\n",
    "        print(\"You are be de\")\n",
    "    elif name == \"Andy\":\n",
    "        print(\"Shut the **** up\")\n",
    "    else:\n",
    "        print(\"Cool\")\n",
    "        \n",
    "compliment(name)\n",
    "\n"
   ]
  },
  {
   "cell_type": "code",
   "execution_count": 4,
   "metadata": {},
   "outputs": [
    {
     "name": "stdout",
     "output_type": "stream",
     "text": [
      "What is your year of birth?  2000\n",
      "You are 18 years old!\n"
     ]
    }
   ],
   "source": [
    "# getApproximateAge: \n",
    "# ------------------\n",
    "# takes in year of birth, returns their rough age \n",
    "# (don't worry about month or year)\n",
    "# This doesn't print anything out.  It takes in one int and returns an int\n",
    "\n",
    "age = input(\"What is your year of birth?  \")\n",
    "age = int(age)\n",
    "def ageMethod(age):\n",
    "    print(\"You are\", (2018-age), \"years old!\")\n",
    "    \n",
    "ageMethod(age)"
   ]
  },
  {
   "cell_type": "code",
   "execution_count": 5,
   "metadata": {},
   "outputs": [
    {
     "name": "stdout",
     "output_type": "stream",
     "text": [
      "Miles to kilometers converter:  5\n",
      "8\n"
     ]
    }
   ],
   "source": [
    "# milesToKilometers: \n",
    "# ------------------\n",
    "# takes in an int (miles) and returns an int (kilometers)\n",
    "\n",
    "miles = input(\"Miles to kilometers converter:  \")\n",
    "miles = float(miles)\n",
    "def converter(miles):\n",
    "    print(int(miles*1.60934))\n",
    "    \n",
    "converter(miles)"
   ]
  },
  {
   "cell_type": "code",
   "execution_count": 12,
   "metadata": {},
   "outputs": [
    {
     "name": "stdout",
     "output_type": "stream",
     "text": [
      "Type an integer (you better not trick me...):  Kevin\n"
     ]
    },
    {
     "ename": "ValueError",
     "evalue": "invalid literal for int() with base 10: 'Kevin'",
     "output_type": "error",
     "traceback": [
      "\u001b[1;31m---------------------------------------------------------------------------\u001b[0m",
      "\u001b[1;31mValueError\u001b[0m                                Traceback (most recent call last)",
      "\u001b[1;32m<ipython-input-12-b1c7032e8fec>\u001b[0m in \u001b[0;36m<module>\u001b[1;34m\u001b[0m\n\u001b[0;32m      5\u001b[0m \u001b[1;33m\u001b[0m\u001b[0m\n\u001b[0;32m      6\u001b[0m \u001b[0mresponse\u001b[0m \u001b[1;33m=\u001b[0m \u001b[0minput\u001b[0m\u001b[1;33m(\u001b[0m\u001b[1;34m\"Type an integer (you better not trick me...):  \"\u001b[0m\u001b[1;33m)\u001b[0m\u001b[1;33m\u001b[0m\u001b[1;33m\u001b[0m\u001b[0m\n\u001b[1;32m----> 7\u001b[1;33m \u001b[0mresponse\u001b[0m \u001b[1;33m=\u001b[0m \u001b[0mint\u001b[0m\u001b[1;33m(\u001b[0m\u001b[0mresponse\u001b[0m\u001b[1;33m)\u001b[0m\u001b[1;33m\u001b[0m\u001b[1;33m\u001b[0m\u001b[0m\n\u001b[0m\u001b[0;32m      8\u001b[0m \u001b[1;33m\u001b[0m\u001b[0m\n\u001b[0;32m      9\u001b[0m \u001b[1;32mdef\u001b[0m \u001b[0maMethod\u001b[0m\u001b[1;33m(\u001b[0m\u001b[0mresponse\u001b[0m\u001b[1;33m)\u001b[0m\u001b[1;33m:\u001b[0m\u001b[1;33m\u001b[0m\u001b[1;33m\u001b[0m\u001b[0m\n",
      "\u001b[1;31mValueError\u001b[0m: invalid literal for int() with base 10: 'Kevin'"
     ]
    }
   ],
   "source": [
    "# intInput: \n",
    "# ---------\n",
    "# takes a string (The question it asks the user), then gets input from the user.\n",
    "# if it's not an int, keep asking until we get one. Use try / except\n",
    "\n",
    "response = input(\"Type an integer (you better not trick me...):  \")\n",
    "response = int(response)\n",
    "\n",
    "def aMethod(response):\n",
    "    if response == 0:\n",
    "        print(\"Good\")\n",
    "    elif response < 0:\n",
    "        print(\"Good\")\n",
    "    elif response > 0:\n",
    "        print(\"Good\")\n",
    "    else:\n",
    "        print(\"Try again...\")\n",
    "        response = input(\"Type an integer (you better not trick me...):  \")\n",
    "        aMethod(response)\n",
    "        \n",
    "aMethod(response)"
   ]
  },
  {
   "cell_type": "code",
   "execution_count": 11,
   "metadata": {},
   "outputs": [],
   "source": [
    "# getExactAgeWithCurrentYear: \n",
    "# ---------------------------\n",
    "# takes in 4 parameters: \n",
    "#       yearOfBirth,monthOfBirth,DayOfBirth, currentYear.\n",
    "#       the currentYear is given a deafult parameter value (2018)\n",
    "# this returns an int (their exact age -- however you interpret that)\n"
   ]
  },
  {
   "cell_type": "code",
   "execution_count": null,
   "metadata": {
    "collapsed": true
   },
   "outputs": [],
   "source": [
    "# getExactAge: \n",
    "# ------------\n",
    "# takes in 3 parameters: yearOfBirth,monthOfBirth,DayOfBirth, \n",
    "# and returns an int (their exact age -- however you interpret that)\n",
    "# NOTE: YOU CAN USE YOUR OTHER FUNCTION, getExactAgeWithCurrentYear inside this function!\n"
   ]
  },
  {
   "cell_type": "code",
   "execution_count": 14,
   "metadata": {},
   "outputs": [
    {
     "name": "stdout",
     "output_type": "stream",
     "text": [
      "Sum of myList is:  15\n"
     ]
    }
   ],
   "source": [
    "#sumIntList: \n",
    "# ----------\n",
    "# takes a one parameter, a list of exactly 5 ints, and returns their sum.\n",
    "\n",
    "def sumIntList(theList):\n",
    "    thisSum = theList[0] + theList[1] + theList[2] + theList[3] + theList[4]\n",
    "    return thisSum\n",
    "\n",
    "theList = [1,2,3,4,5]\n",
    "print(\"Sum of myList is: \", sumIntList(theList))"
   ]
  },
  {
   "cell_type": "code",
   "execution_count": 19,
   "metadata": {},
   "outputs": [
    {
     "name": "stdout",
     "output_type": "stream",
     "text": [
      "x1:  0\n",
      "y1:  0\n",
      "x2:  3\n",
      "y2:  4\n",
      "The distance is 5.0\n"
     ]
    }
   ],
   "source": [
    "# distance: \n",
    "# ---------\n",
    "#  takes two points (each one is a list of two values, x and y),\n",
    "#  then returns the distance between the two points.\n",
    "#  NOTE: to get x-squared, do this: x**2\n",
    "\n",
    "x1 = abs(int(input(\"x1:  \")))\n",
    "y1 = abs(int(input(\"y1:  \")))\n",
    "x2 = abs(int(input(\"x2:  \")))\n",
    "y2 = abs(int(input(\"y2:  \")))\n",
    "         \n",
    "xDist = abs(x2 - x1)\n",
    "yDist = abs(y2 - y1)\n",
    "distance = ((xDist*xDist)+(yDist*yDist))**(1/2)\n",
    "print(\"The distance is\", distance)"
   ]
  },
  {
   "cell_type": "code",
   "execution_count": null,
   "metadata": {
    "collapsed": true
   },
   "outputs": [],
   "source": [
    "# sumOfSquares: \n",
    "# -------------\n",
    "# takes in one parameter, a list of ints. \n",
    "# Returns a value which is the sum of the squares of all the ints in the list.\n",
    "\n"
   ]
  },
  {
   "cell_type": "code",
   "execution_count": null,
   "metadata": {
    "collapsed": true
   },
   "outputs": [],
   "source": [
    "# isPalindrome: \n",
    "# -------------\n",
    "# takes in a string and returns True if it is a palindrome, and False otherwise.\n"
   ]
  },
  {
   "cell_type": "code",
   "execution_count": null,
   "metadata": {
    "collapsed": true
   },
   "outputs": [],
   "source": [
    "# check_voter_status: \n",
    "# -------------------\n",
    "# it takes in your year of birth, computes your age, \n",
    "# and if your age is greater than 18, then it asks if you are registered to vote, \n",
    "# and if you’re not, then it tells you the voter registration website.\n"
   ]
  },
  {
   "cell_type": "code",
   "execution_count": null,
   "metadata": {
    "collapsed": true
   },
   "outputs": [],
   "source": []
  }
 ],
 "metadata": {
  "kernelspec": {
   "display_name": "Python 3",
   "language": "python",
   "name": "python3"
  },
  "language_info": {
   "codemirror_mode": {
    "name": "ipython",
    "version": 3
   },
   "file_extension": ".py",
   "mimetype": "text/x-python",
   "name": "python",
   "nbconvert_exporter": "python",
   "pygments_lexer": "ipython3",
   "version": "3.7.3"
  }
 },
 "nbformat": 4,
 "nbformat_minor": 2
}
