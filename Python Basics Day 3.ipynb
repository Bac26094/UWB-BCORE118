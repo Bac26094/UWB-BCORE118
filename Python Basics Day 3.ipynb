{
 "cells": [
  {
   "cell_type": "code",
   "execution_count": null,
   "metadata": {},
   "outputs": [],
   "source": [
    "# Python Basics Day 3"
   ]
  },
  {
   "cell_type": "code",
   "execution_count": null,
   "metadata": {},
   "outputs": [],
   "source": [
    "# topics: \n",
    "# for loops, while loops, list, range, len(myList), dictionary, key value, adding, subtracting, \n",
    "# iterating over dictionaries. \n"
   ]
  },
  {
   "cell_type": "code",
   "execution_count": 6,
   "metadata": {},
   "outputs": [
    {
     "name": "stdout",
     "output_type": "stream",
     "text": [
      "Gimme your year of birth: 2000\n",
      "Gimme your month as a numbr:  5\n",
      "You're eligible to vote! Are you registered?  no\n",
      "please go here to register: www.dopkdpoakdopwkd.com\n"
     ]
    }
   ],
   "source": [
    "# MORE ON FUNCTIONS\n",
    "\n",
    "# 1. Functions as a way to re-use code without having to keep typing it all out.\n",
    "def vampireFunction():\n",
    "    year = int(input(\"Gimme your year of birth: \"))\n",
    "    age = 2019 - year\n",
    "    month = int(input(\"Gimme your month as a numbr:  \"))\n",
    "    if month > 4:\n",
    "        age = age - 1\n",
    "        if age >= 18:\n",
    "            isRegistered = input(\"You're eligible to vote! Are you registered?  \")\n",
    "            if isRegistered.lower() == 'no':\n",
    "                print(\"please go here to register: www.dopkdpoakdopwkd.com\")\n",
    "            else:\n",
    "                print(\"Glad to hear it: Voting is important!\")\n",
    "\n",
    "# 2. calling functions\n",
    "    # (the code in a function isn't executed until it's called)\n",
    "\n",
    "vampireFunction()\n",
    "\n",
    "\n",
    "# 3. defining functions\n",
    "\n",
    "# 4. input parameters (or not)\n",
    "\n",
    "# 5. return values (or not)\n",
    "\n",
    "# 6. default input parameters\n",
    "\n",
    "\n",
    "\n",
    "\n",
    "\n",
    "\n",
    "\n",
    "\n",
    "\n",
    "\n"
   ]
  },
  {
   "cell_type": "code",
   "execution_count": 4,
   "metadata": {},
   "outputs": [
    {
     "name": "stdout",
     "output_type": "stream",
     "text": [
      "sum of lostNumbers is  108\n"
     ]
    }
   ],
   "source": [
    "# FOR LOOPS\n",
    "\n",
    "# Suppose you've got a list and you want to do something to every member of that list. How do you do it?\n",
    "\n",
    "lostNumbers = [4, 8, 15, 16, 23, 42]  # anyone ever watch the show Lost?\n",
    "\n",
    "# I want to add them up!\n",
    "sumOfLostNumbers = 0\n",
    "for x in lostNumbers: # \"For each x in lostNumbers, do the following...\"     # It's called \"iterating\" over a list\n",
    "    sumOfLostNumbers = sumOfLostNumbers + x  # add x to the sum so far\n",
    "\n",
    "print(\"sum of lostNumbers is \", sumOfLostNumbers)\n",
    "\n",
    "\n",
    "# what else could we do to each of the members of list?\n",
    "\n",
    "\n",
    "\n",
    "\n",
    "\n",
    "\n"
   ]
  },
  {
   "cell_type": "code",
   "execution_count": null,
   "metadata": {},
   "outputs": [
    {
     "name": "stdout",
     "output_type": "stream",
     "text": [
      "(Just type 'quit' when you're done with this game)\n"
     ]
    }
   ],
   "source": [
    "# WHILE LOOPS\n",
    "\n",
    "# Suppose you want to keep looping as long as some particular thing is true...\n",
    "\n",
    "# For example: \n",
    "# Suppose I want to keep interacting with the user until they type \"quit\"....\n",
    "\n",
    "userInput = \"\"\n",
    "print(\"(Just type 'quit' when you're done with this game)\")\n",
    "while userInput != \"quit\":\n",
    "    userInput = input(\"What's on your mind? \")\n",
    "    print (\"Wow, so you're saying, '\", userInput, \"'? That's amazing.\")\n",
    "print(\"ok, goodbye!\")\n"
   ]
  },
  {
   "cell_type": "code",
   "execution_count": 13,
   "metadata": {},
   "outputs": [
    {
     "name": "stdout",
     "output_type": "stream",
     "text": [
      "Whose grade would you like to see? David\n",
      "Ok. That person's grade is  4.0\n",
      "David 4.0\n",
      "Herman 3.8\n",
      "Sue 3.2\n",
      "Alex 1.2\n"
     ]
    }
   ],
   "source": [
    "# DICTIONARIES\n",
    "\n",
    "grades = {\"David\": 4.0, \"Herman\": 3.8, \"Sue\": 3.2, \"Alex\": 1.2}\n",
    "\n",
    "person = input(\"Whose grade would you like to see? \")\n",
    "print(\"Ok. That person's grade is \", grades[person])\n",
    "\n",
    "# iterating over key value pairs:\n",
    "for x,y in grades.items():\n",
    "    print(x, y)\n",
    "    \n",
    "# How about a student database? Each student record is accessed by the student's ID, \n",
    "# and the record is another dictionary containing name, GPA, class standing, major, etc.\n",
    "\n",
    "# Then could we build a function for retrieving things from the database?"
   ]
  },
  {
   "cell_type": "code",
   "execution_count": null,
   "metadata": {},
   "outputs": [],
   "source": []
  },
  {
   "cell_type": "code",
   "execution_count": null,
   "metadata": {},
   "outputs": [],
   "source": []
  },
  {
   "cell_type": "code",
   "execution_count": null,
   "metadata": {},
   "outputs": [],
   "source": []
  }
 ],
 "metadata": {
  "kernelspec": {
   "display_name": "Python 3",
   "language": "python",
   "name": "python3"
  },
  "language_info": {
   "codemirror_mode": {
    "name": "ipython",
    "version": 3
   },
   "file_extension": ".py",
   "mimetype": "text/x-python",
   "name": "python",
   "nbconvert_exporter": "python",
   "pygments_lexer": "ipython3",
   "version": "3.7.3"
  }
 },
 "nbformat": 4,
 "nbformat_minor": 2
}
